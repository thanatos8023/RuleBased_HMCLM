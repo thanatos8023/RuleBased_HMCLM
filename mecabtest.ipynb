{
 "cells": [
  {
   "cell_type": "code",
   "execution_count": 1,
   "metadata": {},
   "outputs": [],
   "source": [
    "from eunjeon import Mecab\n",
    "import nltk\n",
    "import glob"
   ]
  },
  {
   "cell_type": "code",
   "execution_count": 134,
   "metadata": {},
   "outputs": [
    {
     "name": "stdout",
     "output_type": "stream",
     "text": [
      "1\n"
     ]
    }
   ],
   "source": [
    "filelist = glob.glob('corpus/Control_Door_Open*.txt')\n",
    "print(len(filelist))"
   ]
  },
  {
   "cell_type": "code",
   "execution_count": 135,
   "metadata": {},
   "outputs": [
    {
     "name": "stdout",
     "output_type": "stream",
     "text": [
      "13\n"
     ]
    }
   ],
   "source": [
    "raw = []\n",
    "for fn in filelist:\n",
    "    with open(fn, 'r', encoding='utf-8') as f:\n",
    "        raw += f.read().split('\\n')\n",
    "\n",
    "print(len(raw))"
   ]
  },
  {
   "cell_type": "code",
   "execution_count": 136,
   "metadata": {},
   "outputs": [
    {
     "name": "stdout",
     "output_type": "stream",
     "text": [
      "62\n"
     ]
    }
   ],
   "source": [
    "mecab = Mecab()\n",
    "all_morph = []\n",
    "for sen in raw:\n",
    "    #print(mecab.morphs(sen))\n",
    "    all_morph += mecab.pos(sen)\n",
    "\n",
    "print(len(all_morph))"
   ]
  },
  {
   "cell_type": "code",
   "execution_count": 137,
   "metadata": {},
   "outputs": [
    {
     "name": "stdout",
     "output_type": "stream",
     "text": [
      "[(('열', 'VV'), 13), (('어', 'EC'), 13), (('내', 'NP+JKG'), 7), (('차', 'NNG'), 7), (('문', 'NNG'), 7), (('줘', 'VX+EC'), 7), (('차문', 'NNG'), 4), (('도', 'JX'), 2), (('어', 'IC'), 2)]\n"
     ]
    }
   ],
   "source": [
    "tmp = nltk.FreqDist(m for m in all_morph)\n",
    "print(tmp.most_common(50))"
   ]
  },
  {
   "cell_type": "code",
   "execution_count": 138,
   "metadata": {},
   "outputs": [
    {
     "data": {
      "text/plain": [
       "9"
      ]
     },
     "execution_count": 138,
     "metadata": {},
     "output_type": "execute_result"
    }
   ],
   "source": [
    "len(tmp.keys())"
   ]
  },
  {
   "cell_type": "code",
   "execution_count": 139,
   "metadata": {
    "scrolled": true
   },
   "outputs": [
    {
     "name": "stdout",
     "output_type": "stream",
     "text": [
      "내 NP+JKG 7\n",
      "차 NNG 7\n",
      "문 NNG 7\n",
      "차문 NNG 4\n"
     ]
    }
   ],
   "source": [
    "for word, tag in tmp.keys():\n",
    "    if tag[0] == 'N':\n",
    "        print(word, tag, tmp[(word, tag)])"
   ]
  },
  {
   "cell_type": "code",
   "execution_count": 140,
   "metadata": {},
   "outputs": [
    {
     "name": "stdout",
     "output_type": "stream",
     "text": [
      "열 VV 13\n",
      "어 EC 13\n",
      "줘 VX+EC 7\n",
      "도 JX 2\n",
      "어 IC 2\n"
     ]
    }
   ],
   "source": [
    "for word, tag in tmp.keys():\n",
    "    if tag[0] != 'N':\n",
    "        print(word, tag, tmp[(word, tag)])"
   ]
  },
  {
   "cell_type": "code",
   "execution_count": 126,
   "metadata": {},
   "outputs": [
    {
     "data": {
      "text/plain": [
       "[('블루', 'NNP'), ('링크', 'NNG'), ('도움말', 'NNG')]"
      ]
     },
     "execution_count": 126,
     "metadata": {},
     "output_type": "execute_result"
    }
   ],
   "source": [
    "mecab.pos('블루링크 도움말')"
   ]
  },
  {
   "cell_type": "code",
   "execution_count": 76,
   "metadata": {},
   "outputs": [
    {
     "name": "stdout",
     "output_type": "stream",
     "text": [
      "0\n"
     ]
    }
   ],
   "source": [
    "set1 = {1, 2, 3, 4, 5}\n",
    "set2 = {1, 2, 3}\n",
    "\n",
    "set3 = set2 - set1\n",
    "\n",
    "if set3:\n",
    "    print(len(set3))\n",
    "else:\n",
    "    print(len(set3))"
   ]
  },
  {
   "cell_type": "code",
   "execution_count": 148,
   "metadata": {},
   "outputs": [
    {
     "name": "stdout",
     "output_type": "stream",
     "text": [
      "{}\n"
     ]
    }
   ],
   "source": [
    "d1 = {'a': 0, 'b': {}}\n",
    "\n",
    "print(d1['b'])"
   ]
  },
  {
   "cell_type": "code",
   "execution_count": 9,
   "metadata": {},
   "outputs": [
    {
     "name": "stdout",
     "output_type": "stream",
     "text": [
      "내 NP+JKG 219\n",
      "차 NNG 219\n",
      "최소 NNG 162\n",
      "시동 NNG 36\n",
      "온도 NNG 144\n",
      "설정 NNG 72\n",
      "조절 NNG 72\n",
      "최저 NNG 162\n",
      "공조 NNG 144\n",
      "\n",
      "로 JKB 324\n",
      "켜 VV 54\n",
      "줘 EC+VV+EC 18\n",
      "켜 VV+EC 54\n",
      "를 JKO 288\n",
      "맞춰 VV+EC 48\n",
      "줘 VX+EC 60\n",
      "해 XSV+EC 96\n",
      "줘라 VX+EC 78\n",
      "라 EC 18\n",
      "맞춰라 VV+EC 12\n",
      "줘요 VX+EC 30\n",
      "요 EC 18\n",
      "해줘요 XSV+EC+VX+EC 48\n",
      "맞춰요 VV+EF 12\n"
     ]
    }
   ],
   "source": [
    "filelist = glob.glob('corpus/*Min*')\n",
    "#print(len(filelist))\n",
    "\n",
    "raw = []\n",
    "for fn in filelist:\n",
    "    with open(fn, 'r', encoding='utf-8') as f:\n",
    "        raw += f.read().split('\\n')\n",
    "\n",
    "#print(len(raw))\n",
    "\n",
    "mecab = Mecab()\n",
    "all_morph = []\n",
    "for sen in raw:\n",
    "    #print(mecab.morphs(sen))\n",
    "    all_morph += mecab.pos(sen)\n",
    "\n",
    "#print(len(all_morph))\n",
    "\n",
    "tmp = nltk.FreqDist(m for m in all_morph)\n",
    "#print(tmp.most_common(50))\n",
    "\n",
    "for word, tag in tmp.keys():\n",
    "    if tag[0] == 'N':\n",
    "        print(word, tag, tmp[(word, tag)])\n",
    "\n",
    "print()\n",
    "\n",
    "for word, tag in tmp.keys():\n",
    "    if tag[0] != 'N':\n",
    "        print(word, tag, tmp[(word, tag)])"
   ]
  },
  {
   "cell_type": "code",
   "execution_count": null,
   "metadata": {},
   "outputs": [],
   "source": []
  }
 ],
 "metadata": {
  "kernelspec": {
   "display_name": "Python 3",
   "language": "python",
   "name": "python3"
  },
  "language_info": {
   "codemirror_mode": {
    "name": "ipython",
    "version": 3
   },
   "file_extension": ".py",
   "mimetype": "text/x-python",
   "name": "python",
   "nbconvert_exporter": "python",
   "pygments_lexer": "ipython3",
   "version": "3.6.5"
  }
 },
 "nbformat": 4,
 "nbformat_minor": 2
}
